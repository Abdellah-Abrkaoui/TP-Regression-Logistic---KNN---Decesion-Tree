{
 "cells": [
  {
   "cell_type": "markdown",
   "metadata": {
    "id": "vBY1Vdsp00eN"
   },
   "source": [
    "<center><h1> Série de Travaux Pratiques N° 7 - Machine Learning </h1></center>\n",
    "<center><h2> K-Nearest Neighbor and Decision Tree</h2></center>\n",
    "\n",
    "---\n",
    "\n"
   ]
  },
  {
   "cell_type": "markdown",
   "metadata": {},
   "source": [
    "#### ABRKAOUI ABDELLAH - IISE - GROUPE 1"
   ]
  },
  {
   "cell_type": "markdown",
   "metadata": {
    "id": "2OT_v-xSH8NW"
   },
   "source": [
    "Pour ce TP, on utilisera le **dataset IRIS**. Ce dernier est une base de données regroupant les caractéristiques de **trois espèces de fleurs d’Iris, à savoir Setosa, Versicolour et Virginica**. Chaque ligne de ce jeu de données est une observation des caractéristiques d’une fleur d’Iris. Ce dataset décrit les espèces d’Iris par quatre propriétés : longueur et largeur de sépales ainsi que longueur et largeur de pétales. La base de données comporte 150 observations (50 observations par espèce)."
   ]
  },
  {
   "cell_type": "markdown",
   "metadata": {
    "id": "2xIqBKf-_MK9"
   },
   "source": [
    "# **Partie I : K-Nearest Neighbor**"
   ]
  },
  {
   "cell_type": "markdown",
   "metadata": {
    "id": "fG-mqDhouw_G"
   },
   "source": [
    "# **Questions :**\n",
    "\n",
    "1- Importer les packages nécessaires\n",
    "\n",
    "2- Lire l'ensemble de données dans le dataframe pandas\n",
    "\n",
    "3- Afficher et explorer l'ensemble de données \"**iris.csv**\"\n",
    "\n",
    "4- Extraire les variables d'entrée X\n",
    "\n",
    "5- Extraire les variables de sortie y\n",
    "\n",
    "6- Diviser le dataset en Train / Test\n",
    "\n",
    "7- Mise à l'échelle des fonctionnalités avec Transform()\n",
    "\n",
    "8- Définir votre modèle **KNN**\n",
    "\n",
    "9- Entraîner le modèle\n",
    "\n",
    "10- Prédiction sur l'ensemble de test\n",
    "\n",
    "11- Évaluation du modèle à l'aide de métriques"
   ]
  },
  {
   "cell_type": "code",
   "execution_count": 1,
   "metadata": {
    "id": "Ab1P8GZVw4gj"
   },
   "outputs": [],
   "source": [
    "# IRIS Dataset : KNN"
   ]
  },
  {
   "cell_type": "markdown",
   "metadata": {},
   "source": [
    "#### 1- Importation des packages nécessaires"
   ]
  },
  {
   "cell_type": "code",
   "execution_count": 2,
   "metadata": {},
   "outputs": [],
   "source": [
    "import pandas as pd\n",
    "import numpy as np\n",
    "from sklearn.preprocessing import LabelEncoder\n",
    "from sklearn.model_selection import train_test_split\n",
    "from sklearn.preprocessing import StandardScaler\n",
    "from sklearn.metrics import classification_report, accuracy_score, confusion_matrix"
   ]
  },
  {
   "cell_type": "markdown",
   "metadata": {},
   "source": [
    "#### 2- Lecture des données dans le dataframe pandas"
   ]
  },
  {
   "cell_type": "code",
   "execution_count": 3,
   "metadata": {},
   "outputs": [],
   "source": [
    "data = pd.read_csv('iris.csv')"
   ]
  },
  {
   "cell_type": "markdown",
   "metadata": {},
   "source": [
    "#### 3- l'affichage et l'exploration de l'ensemble de données \"Iris.csv\""
   ]
  },
  {
   "cell_type": "code",
   "execution_count": 4,
   "metadata": {},
   "outputs": [
    {
     "data": {
      "text/html": [
       "<div>\n",
       "<style scoped>\n",
       "    .dataframe tbody tr th:only-of-type {\n",
       "        vertical-align: middle;\n",
       "    }\n",
       "\n",
       "    .dataframe tbody tr th {\n",
       "        vertical-align: top;\n",
       "    }\n",
       "\n",
       "    .dataframe thead th {\n",
       "        text-align: right;\n",
       "    }\n",
       "</style>\n",
       "<table border=\"1\" class=\"dataframe\">\n",
       "  <thead>\n",
       "    <tr style=\"text-align: right;\">\n",
       "      <th></th>\n",
       "      <th>sepal.length</th>\n",
       "      <th>sepal.width</th>\n",
       "      <th>petal.length</th>\n",
       "      <th>petal.width</th>\n",
       "      <th>variety</th>\n",
       "    </tr>\n",
       "  </thead>\n",
       "  <tbody>\n",
       "    <tr>\n",
       "      <th>0</th>\n",
       "      <td>5.1</td>\n",
       "      <td>3.5</td>\n",
       "      <td>1.4</td>\n",
       "      <td>0.2</td>\n",
       "      <td>Setosa</td>\n",
       "    </tr>\n",
       "    <tr>\n",
       "      <th>1</th>\n",
       "      <td>4.9</td>\n",
       "      <td>3.0</td>\n",
       "      <td>1.4</td>\n",
       "      <td>0.2</td>\n",
       "      <td>Setosa</td>\n",
       "    </tr>\n",
       "    <tr>\n",
       "      <th>2</th>\n",
       "      <td>4.7</td>\n",
       "      <td>3.2</td>\n",
       "      <td>1.3</td>\n",
       "      <td>0.2</td>\n",
       "      <td>Setosa</td>\n",
       "    </tr>\n",
       "    <tr>\n",
       "      <th>3</th>\n",
       "      <td>4.6</td>\n",
       "      <td>3.1</td>\n",
       "      <td>1.5</td>\n",
       "      <td>0.2</td>\n",
       "      <td>Setosa</td>\n",
       "    </tr>\n",
       "    <tr>\n",
       "      <th>4</th>\n",
       "      <td>5.0</td>\n",
       "      <td>3.6</td>\n",
       "      <td>1.4</td>\n",
       "      <td>0.2</td>\n",
       "      <td>Setosa</td>\n",
       "    </tr>\n",
       "    <tr>\n",
       "      <th>...</th>\n",
       "      <td>...</td>\n",
       "      <td>...</td>\n",
       "      <td>...</td>\n",
       "      <td>...</td>\n",
       "      <td>...</td>\n",
       "    </tr>\n",
       "    <tr>\n",
       "      <th>145</th>\n",
       "      <td>6.7</td>\n",
       "      <td>3.0</td>\n",
       "      <td>5.2</td>\n",
       "      <td>2.3</td>\n",
       "      <td>Virginica</td>\n",
       "    </tr>\n",
       "    <tr>\n",
       "      <th>146</th>\n",
       "      <td>6.3</td>\n",
       "      <td>2.5</td>\n",
       "      <td>5.0</td>\n",
       "      <td>1.9</td>\n",
       "      <td>Virginica</td>\n",
       "    </tr>\n",
       "    <tr>\n",
       "      <th>147</th>\n",
       "      <td>6.5</td>\n",
       "      <td>3.0</td>\n",
       "      <td>5.2</td>\n",
       "      <td>2.0</td>\n",
       "      <td>Virginica</td>\n",
       "    </tr>\n",
       "    <tr>\n",
       "      <th>148</th>\n",
       "      <td>6.2</td>\n",
       "      <td>3.4</td>\n",
       "      <td>5.4</td>\n",
       "      <td>2.3</td>\n",
       "      <td>Virginica</td>\n",
       "    </tr>\n",
       "    <tr>\n",
       "      <th>149</th>\n",
       "      <td>5.9</td>\n",
       "      <td>3.0</td>\n",
       "      <td>5.1</td>\n",
       "      <td>1.8</td>\n",
       "      <td>Virginica</td>\n",
       "    </tr>\n",
       "  </tbody>\n",
       "</table>\n",
       "<p>150 rows × 5 columns</p>\n",
       "</div>"
      ],
      "text/plain": [
       "     sepal.length  sepal.width  petal.length  petal.width    variety\n",
       "0             5.1          3.5           1.4          0.2     Setosa\n",
       "1             4.9          3.0           1.4          0.2     Setosa\n",
       "2             4.7          3.2           1.3          0.2     Setosa\n",
       "3             4.6          3.1           1.5          0.2     Setosa\n",
       "4             5.0          3.6           1.4          0.2     Setosa\n",
       "..            ...          ...           ...          ...        ...\n",
       "145           6.7          3.0           5.2          2.3  Virginica\n",
       "146           6.3          2.5           5.0          1.9  Virginica\n",
       "147           6.5          3.0           5.2          2.0  Virginica\n",
       "148           6.2          3.4           5.4          2.3  Virginica\n",
       "149           5.9          3.0           5.1          1.8  Virginica\n",
       "\n",
       "[150 rows x 5 columns]"
      ]
     },
     "execution_count": 4,
     "metadata": {},
     "output_type": "execute_result"
    }
   ],
   "source": [
    "data"
   ]
  },
  {
   "cell_type": "code",
   "execution_count": 5,
   "metadata": {},
   "outputs": [
    {
     "data": {
      "text/plain": [
       "(150, 5)"
      ]
     },
     "execution_count": 5,
     "metadata": {},
     "output_type": "execute_result"
    }
   ],
   "source": [
    "data.shape"
   ]
  },
  {
   "cell_type": "code",
   "execution_count": 6,
   "metadata": {},
   "outputs": [
    {
     "name": "stdout",
     "output_type": "stream",
     "text": [
      "<class 'pandas.core.frame.DataFrame'>\n",
      "RangeIndex: 150 entries, 0 to 149\n",
      "Data columns (total 5 columns):\n",
      " #   Column        Non-Null Count  Dtype  \n",
      "---  ------        --------------  -----  \n",
      " 0   sepal.length  150 non-null    float64\n",
      " 1   sepal.width   150 non-null    float64\n",
      " 2   petal.length  150 non-null    float64\n",
      " 3   petal.width   150 non-null    float64\n",
      " 4   variety       150 non-null    object \n",
      "dtypes: float64(4), object(1)\n",
      "memory usage: 6.0+ KB\n"
     ]
    }
   ],
   "source": [
    "data.info()"
   ]
  },
  {
   "cell_type": "code",
   "execution_count": 7,
   "metadata": {},
   "outputs": [
    {
     "data": {
      "text/plain": [
       "Index(['sepal.length', 'sepal.width', 'petal.length', 'petal.width',\n",
       "       'variety'],\n",
       "      dtype='object')"
      ]
     },
     "execution_count": 7,
     "metadata": {},
     "output_type": "execute_result"
    }
   ],
   "source": [
    "data.columns"
   ]
  },
  {
   "cell_type": "code",
   "execution_count": 8,
   "metadata": {},
   "outputs": [
    {
     "data": {
      "text/plain": [
       "sepal.length    0\n",
       "sepal.width     0\n",
       "petal.length    0\n",
       "petal.width     0\n",
       "variety         0\n",
       "dtype: int64"
      ]
     },
     "execution_count": 8,
     "metadata": {},
     "output_type": "execute_result"
    }
   ],
   "source": [
    "data.isnull().sum()"
   ]
  },
  {
   "cell_type": "code",
   "execution_count": 9,
   "metadata": {},
   "outputs": [
    {
     "data": {
      "text/html": [
       "<div>\n",
       "<style scoped>\n",
       "    .dataframe tbody tr th:only-of-type {\n",
       "        vertical-align: middle;\n",
       "    }\n",
       "\n",
       "    .dataframe tbody tr th {\n",
       "        vertical-align: top;\n",
       "    }\n",
       "\n",
       "    .dataframe thead th {\n",
       "        text-align: right;\n",
       "    }\n",
       "</style>\n",
       "<table border=\"1\" class=\"dataframe\">\n",
       "  <thead>\n",
       "    <tr style=\"text-align: right;\">\n",
       "      <th></th>\n",
       "      <th>sepal.length</th>\n",
       "      <th>sepal.width</th>\n",
       "      <th>petal.length</th>\n",
       "      <th>petal.width</th>\n",
       "    </tr>\n",
       "  </thead>\n",
       "  <tbody>\n",
       "    <tr>\n",
       "      <th>count</th>\n",
       "      <td>150.000000</td>\n",
       "      <td>150.000000</td>\n",
       "      <td>150.000000</td>\n",
       "      <td>150.000000</td>\n",
       "    </tr>\n",
       "    <tr>\n",
       "      <th>mean</th>\n",
       "      <td>5.843333</td>\n",
       "      <td>3.057333</td>\n",
       "      <td>3.758000</td>\n",
       "      <td>1.199333</td>\n",
       "    </tr>\n",
       "    <tr>\n",
       "      <th>std</th>\n",
       "      <td>0.828066</td>\n",
       "      <td>0.435866</td>\n",
       "      <td>1.765298</td>\n",
       "      <td>0.762238</td>\n",
       "    </tr>\n",
       "    <tr>\n",
       "      <th>min</th>\n",
       "      <td>4.300000</td>\n",
       "      <td>2.000000</td>\n",
       "      <td>1.000000</td>\n",
       "      <td>0.100000</td>\n",
       "    </tr>\n",
       "    <tr>\n",
       "      <th>25%</th>\n",
       "      <td>5.100000</td>\n",
       "      <td>2.800000</td>\n",
       "      <td>1.600000</td>\n",
       "      <td>0.300000</td>\n",
       "    </tr>\n",
       "    <tr>\n",
       "      <th>50%</th>\n",
       "      <td>5.800000</td>\n",
       "      <td>3.000000</td>\n",
       "      <td>4.350000</td>\n",
       "      <td>1.300000</td>\n",
       "    </tr>\n",
       "    <tr>\n",
       "      <th>75%</th>\n",
       "      <td>6.400000</td>\n",
       "      <td>3.300000</td>\n",
       "      <td>5.100000</td>\n",
       "      <td>1.800000</td>\n",
       "    </tr>\n",
       "    <tr>\n",
       "      <th>max</th>\n",
       "      <td>7.900000</td>\n",
       "      <td>4.400000</td>\n",
       "      <td>6.900000</td>\n",
       "      <td>2.500000</td>\n",
       "    </tr>\n",
       "  </tbody>\n",
       "</table>\n",
       "</div>"
      ],
      "text/plain": [
       "       sepal.length  sepal.width  petal.length  petal.width\n",
       "count    150.000000   150.000000    150.000000   150.000000\n",
       "mean       5.843333     3.057333      3.758000     1.199333\n",
       "std        0.828066     0.435866      1.765298     0.762238\n",
       "min        4.300000     2.000000      1.000000     0.100000\n",
       "25%        5.100000     2.800000      1.600000     0.300000\n",
       "50%        5.800000     3.000000      4.350000     1.300000\n",
       "75%        6.400000     3.300000      5.100000     1.800000\n",
       "max        7.900000     4.400000      6.900000     2.500000"
      ]
     },
     "execution_count": 9,
     "metadata": {},
     "output_type": "execute_result"
    }
   ],
   "source": [
    "data.describe()"
   ]
  },
  {
   "cell_type": "markdown",
   "metadata": {},
   "source": [
    "#### 4- Extraction des variables d'entrée X"
   ]
  },
  {
   "cell_type": "code",
   "execution_count": 10,
   "metadata": {},
   "outputs": [
    {
     "data": {
      "text/html": [
       "<div>\n",
       "<style scoped>\n",
       "    .dataframe tbody tr th:only-of-type {\n",
       "        vertical-align: middle;\n",
       "    }\n",
       "\n",
       "    .dataframe tbody tr th {\n",
       "        vertical-align: top;\n",
       "    }\n",
       "\n",
       "    .dataframe thead th {\n",
       "        text-align: right;\n",
       "    }\n",
       "</style>\n",
       "<table border=\"1\" class=\"dataframe\">\n",
       "  <thead>\n",
       "    <tr style=\"text-align: right;\">\n",
       "      <th></th>\n",
       "      <th>sepal.length</th>\n",
       "      <th>sepal.width</th>\n",
       "      <th>petal.length</th>\n",
       "      <th>petal.width</th>\n",
       "    </tr>\n",
       "  </thead>\n",
       "  <tbody>\n",
       "    <tr>\n",
       "      <th>0</th>\n",
       "      <td>5.1</td>\n",
       "      <td>3.5</td>\n",
       "      <td>1.4</td>\n",
       "      <td>0.2</td>\n",
       "    </tr>\n",
       "    <tr>\n",
       "      <th>1</th>\n",
       "      <td>4.9</td>\n",
       "      <td>3.0</td>\n",
       "      <td>1.4</td>\n",
       "      <td>0.2</td>\n",
       "    </tr>\n",
       "    <tr>\n",
       "      <th>2</th>\n",
       "      <td>4.7</td>\n",
       "      <td>3.2</td>\n",
       "      <td>1.3</td>\n",
       "      <td>0.2</td>\n",
       "    </tr>\n",
       "    <tr>\n",
       "      <th>3</th>\n",
       "      <td>4.6</td>\n",
       "      <td>3.1</td>\n",
       "      <td>1.5</td>\n",
       "      <td>0.2</td>\n",
       "    </tr>\n",
       "    <tr>\n",
       "      <th>4</th>\n",
       "      <td>5.0</td>\n",
       "      <td>3.6</td>\n",
       "      <td>1.4</td>\n",
       "      <td>0.2</td>\n",
       "    </tr>\n",
       "    <tr>\n",
       "      <th>...</th>\n",
       "      <td>...</td>\n",
       "      <td>...</td>\n",
       "      <td>...</td>\n",
       "      <td>...</td>\n",
       "    </tr>\n",
       "    <tr>\n",
       "      <th>145</th>\n",
       "      <td>6.7</td>\n",
       "      <td>3.0</td>\n",
       "      <td>5.2</td>\n",
       "      <td>2.3</td>\n",
       "    </tr>\n",
       "    <tr>\n",
       "      <th>146</th>\n",
       "      <td>6.3</td>\n",
       "      <td>2.5</td>\n",
       "      <td>5.0</td>\n",
       "      <td>1.9</td>\n",
       "    </tr>\n",
       "    <tr>\n",
       "      <th>147</th>\n",
       "      <td>6.5</td>\n",
       "      <td>3.0</td>\n",
       "      <td>5.2</td>\n",
       "      <td>2.0</td>\n",
       "    </tr>\n",
       "    <tr>\n",
       "      <th>148</th>\n",
       "      <td>6.2</td>\n",
       "      <td>3.4</td>\n",
       "      <td>5.4</td>\n",
       "      <td>2.3</td>\n",
       "    </tr>\n",
       "    <tr>\n",
       "      <th>149</th>\n",
       "      <td>5.9</td>\n",
       "      <td>3.0</td>\n",
       "      <td>5.1</td>\n",
       "      <td>1.8</td>\n",
       "    </tr>\n",
       "  </tbody>\n",
       "</table>\n",
       "<p>150 rows × 4 columns</p>\n",
       "</div>"
      ],
      "text/plain": [
       "     sepal.length  sepal.width  petal.length  petal.width\n",
       "0             5.1          3.5           1.4          0.2\n",
       "1             4.9          3.0           1.4          0.2\n",
       "2             4.7          3.2           1.3          0.2\n",
       "3             4.6          3.1           1.5          0.2\n",
       "4             5.0          3.6           1.4          0.2\n",
       "..            ...          ...           ...          ...\n",
       "145           6.7          3.0           5.2          2.3\n",
       "146           6.3          2.5           5.0          1.9\n",
       "147           6.5          3.0           5.2          2.0\n",
       "148           6.2          3.4           5.4          2.3\n",
       "149           5.9          3.0           5.1          1.8\n",
       "\n",
       "[150 rows x 4 columns]"
      ]
     },
     "execution_count": 10,
     "metadata": {},
     "output_type": "execute_result"
    }
   ],
   "source": [
    "X = data.drop(columns ='variety',axis='1')\n",
    "X"
   ]
  },
  {
   "cell_type": "markdown",
   "metadata": {},
   "source": [
    "#### 5- Extraction des variables de sortie Y"
   ]
  },
  {
   "cell_type": "code",
   "execution_count": 11,
   "metadata": {},
   "outputs": [
    {
     "data": {
      "text/plain": [
       "0         Setosa\n",
       "1         Setosa\n",
       "2         Setosa\n",
       "3         Setosa\n",
       "4         Setosa\n",
       "         ...    \n",
       "145    Virginica\n",
       "146    Virginica\n",
       "147    Virginica\n",
       "148    Virginica\n",
       "149    Virginica\n",
       "Name: variety, Length: 150, dtype: object"
      ]
     },
     "execution_count": 11,
     "metadata": {},
     "output_type": "execute_result"
    }
   ],
   "source": [
    "Y = data['variety']\n",
    "Y"
   ]
  },
  {
   "cell_type": "code",
   "execution_count": 12,
   "metadata": {},
   "outputs": [
    {
     "data": {
      "text/plain": [
       "array([0, 0, 0, 0, 0, 0, 0, 0, 0, 0, 0, 0, 0, 0, 0, 0, 0, 0, 0, 0, 0, 0,\n",
       "       0, 0, 0, 0, 0, 0, 0, 0, 0, 0, 0, 0, 0, 0, 0, 0, 0, 0, 0, 0, 0, 0,\n",
       "       0, 0, 0, 0, 0, 0, 1, 1, 1, 1, 1, 1, 1, 1, 1, 1, 1, 1, 1, 1, 1, 1,\n",
       "       1, 1, 1, 1, 1, 1, 1, 1, 1, 1, 1, 1, 1, 1, 1, 1, 1, 1, 1, 1, 1, 1,\n",
       "       1, 1, 1, 1, 1, 1, 1, 1, 1, 1, 1, 1, 2, 2, 2, 2, 2, 2, 2, 2, 2, 2,\n",
       "       2, 2, 2, 2, 2, 2, 2, 2, 2, 2, 2, 2, 2, 2, 2, 2, 2, 2, 2, 2, 2, 2,\n",
       "       2, 2, 2, 2, 2, 2, 2, 2, 2, 2, 2, 2, 2, 2, 2, 2, 2, 2])"
      ]
     },
     "execution_count": 12,
     "metadata": {},
     "output_type": "execute_result"
    }
   ],
   "source": [
    "LE = LabelEncoder()\n",
    "\n",
    "Y = LE.fit_transform(Y)\n",
    "Y"
   ]
  },
  {
   "cell_type": "markdown",
   "metadata": {},
   "source": [
    "#### 6- Division de dataset en Train / Test"
   ]
  },
  {
   "cell_type": "code",
   "execution_count": 13,
   "metadata": {},
   "outputs": [
    {
     "data": {
      "text/html": [
       "<div>\n",
       "<style scoped>\n",
       "    .dataframe tbody tr th:only-of-type {\n",
       "        vertical-align: middle;\n",
       "    }\n",
       "\n",
       "    .dataframe tbody tr th {\n",
       "        vertical-align: top;\n",
       "    }\n",
       "\n",
       "    .dataframe thead th {\n",
       "        text-align: right;\n",
       "    }\n",
       "</style>\n",
       "<table border=\"1\" class=\"dataframe\">\n",
       "  <thead>\n",
       "    <tr style=\"text-align: right;\">\n",
       "      <th></th>\n",
       "      <th>sepal.length</th>\n",
       "      <th>sepal.width</th>\n",
       "      <th>petal.length</th>\n",
       "      <th>petal.width</th>\n",
       "    </tr>\n",
       "  </thead>\n",
       "  <tbody>\n",
       "    <tr>\n",
       "      <th>22</th>\n",
       "      <td>4.6</td>\n",
       "      <td>3.6</td>\n",
       "      <td>1.0</td>\n",
       "      <td>0.2</td>\n",
       "    </tr>\n",
       "    <tr>\n",
       "      <th>15</th>\n",
       "      <td>5.7</td>\n",
       "      <td>4.4</td>\n",
       "      <td>1.5</td>\n",
       "      <td>0.4</td>\n",
       "    </tr>\n",
       "    <tr>\n",
       "      <th>65</th>\n",
       "      <td>6.7</td>\n",
       "      <td>3.1</td>\n",
       "      <td>4.4</td>\n",
       "      <td>1.4</td>\n",
       "    </tr>\n",
       "    <tr>\n",
       "      <th>11</th>\n",
       "      <td>4.8</td>\n",
       "      <td>3.4</td>\n",
       "      <td>1.6</td>\n",
       "      <td>0.2</td>\n",
       "    </tr>\n",
       "    <tr>\n",
       "      <th>42</th>\n",
       "      <td>4.4</td>\n",
       "      <td>3.2</td>\n",
       "      <td>1.3</td>\n",
       "      <td>0.2</td>\n",
       "    </tr>\n",
       "    <tr>\n",
       "      <th>...</th>\n",
       "      <td>...</td>\n",
       "      <td>...</td>\n",
       "      <td>...</td>\n",
       "      <td>...</td>\n",
       "    </tr>\n",
       "    <tr>\n",
       "      <th>71</th>\n",
       "      <td>6.1</td>\n",
       "      <td>2.8</td>\n",
       "      <td>4.0</td>\n",
       "      <td>1.3</td>\n",
       "    </tr>\n",
       "    <tr>\n",
       "      <th>106</th>\n",
       "      <td>4.9</td>\n",
       "      <td>2.5</td>\n",
       "      <td>4.5</td>\n",
       "      <td>1.7</td>\n",
       "    </tr>\n",
       "    <tr>\n",
       "      <th>14</th>\n",
       "      <td>5.8</td>\n",
       "      <td>4.0</td>\n",
       "      <td>1.2</td>\n",
       "      <td>0.2</td>\n",
       "    </tr>\n",
       "    <tr>\n",
       "      <th>92</th>\n",
       "      <td>5.8</td>\n",
       "      <td>2.6</td>\n",
       "      <td>4.0</td>\n",
       "      <td>1.2</td>\n",
       "    </tr>\n",
       "    <tr>\n",
       "      <th>102</th>\n",
       "      <td>7.1</td>\n",
       "      <td>3.0</td>\n",
       "      <td>5.9</td>\n",
       "      <td>2.1</td>\n",
       "    </tr>\n",
       "  </tbody>\n",
       "</table>\n",
       "<p>120 rows × 4 columns</p>\n",
       "</div>"
      ],
      "text/plain": [
       "     sepal.length  sepal.width  petal.length  petal.width\n",
       "22            4.6          3.6           1.0          0.2\n",
       "15            5.7          4.4           1.5          0.4\n",
       "65            6.7          3.1           4.4          1.4\n",
       "11            4.8          3.4           1.6          0.2\n",
       "42            4.4          3.2           1.3          0.2\n",
       "..            ...          ...           ...          ...\n",
       "71            6.1          2.8           4.0          1.3\n",
       "106           4.9          2.5           4.5          1.7\n",
       "14            5.8          4.0           1.2          0.2\n",
       "92            5.8          2.6           4.0          1.2\n",
       "102           7.1          3.0           5.9          2.1\n",
       "\n",
       "[120 rows x 4 columns]"
      ]
     },
     "execution_count": 13,
     "metadata": {},
     "output_type": "execute_result"
    }
   ],
   "source": [
    "X_train, X_test, y_train, y_test = train_test_split(X,Y,test_size = 0.2, random_state = 42)\n",
    "X_train"
   ]
  },
  {
   "cell_type": "markdown",
   "metadata": {},
   "source": [
    "#### 7- Mise à l'échelle des fonctionnalités avec Transform()"
   ]
  },
  {
   "cell_type": "code",
   "execution_count": 14,
   "metadata": {},
   "outputs": [
    {
     "data": {
      "text/plain": [
       "array([[-1.47393679,  1.20365799, -1.56253475, -1.31260282],\n",
       "       [-0.13307079,  2.99237573, -1.27600637, -1.04563275],\n",
       "       [ 1.08589829,  0.08570939,  0.38585821,  0.28921757],\n",
       "       [-1.23014297,  0.75647855, -1.2187007 , -1.31260282],\n",
       "       [-1.7177306 ,  0.30929911, -1.39061772, -1.31260282],\n",
       "       [ 0.59831066, -1.25582892,  0.72969227,  0.95664273],\n",
       "       [ 0.72020757,  0.30929911,  0.44316389,  0.4227026 ],\n",
       "       [-0.74255534,  0.98006827, -1.27600637, -1.31260282],\n",
       "       [-0.98634915,  1.20365799, -1.33331205, -1.31260282],\n",
       "       [-0.74255534,  2.32160658, -1.27600637, -1.44608785],\n",
       "       [-0.01117388, -0.80864948,  0.78699794,  0.95664273],\n",
       "       [ 0.23261993,  0.75647855,  0.44316389,  0.55618763],\n",
       "       [ 1.08589829,  0.08570939,  0.55777524,  0.4227026 ],\n",
       "       [-0.49876152,  1.87442714, -1.39061772, -1.04563275],\n",
       "       [-0.49876152,  1.4272477 , -1.27600637, -1.31260282],\n",
       "       [-0.37686461, -1.47941864, -0.01528151, -0.24472256],\n",
       "       [ 0.59831066, -0.58505976,  0.78699794,  0.4227026 ],\n",
       "       [ 0.72020757,  0.08570939,  1.01622064,  0.8231577 ],\n",
       "       [ 0.96400139, -0.13788033,  0.38585821,  0.28921757],\n",
       "       [ 1.69538284,  1.20365799,  1.3600547 ,  1.75755292],\n",
       "       [-0.13307079, -0.36147005,  0.27124686,  0.15573254],\n",
       "       [ 2.18297047, -0.13788033,  1.64658307,  1.22361279],\n",
       "       [-0.2549677 , -0.13788033,  0.44316389,  0.4227026 ],\n",
       "       [-0.86445224,  0.98006827, -1.33331205, -1.31260282],\n",
       "       [ 2.30486738, -0.58505976,  1.70388875,  1.09012776],\n",
       "       [-0.01117388, -0.80864948,  0.21394119, -0.24472256],\n",
       "       [-0.74255534,  0.75647855, -1.33331205, -1.31260282],\n",
       "       [-0.98634915,  0.98006827, -1.39061772, -1.17911778],\n",
       "       [-0.86445224,  1.65083742, -1.04678367, -1.04563275],\n",
       "       [-0.98634915, -2.37377751, -0.12989286, -0.24472256],\n",
       "       [ 0.59831066, -0.80864948,  0.67238659,  0.8231577 ],\n",
       "       [-1.23014297,  0.75647855, -1.04678367, -1.31260282],\n",
       "       [-0.98634915, -0.13788033, -1.2187007 , -1.31260282],\n",
       "       [-0.86445224,  0.53288883, -1.16139502, -0.91214772],\n",
       "       [-0.2549677 , -0.80864948,  0.27124686,  0.15573254],\n",
       "       [-0.86445224,  0.75647855, -1.27600637, -1.31260282],\n",
       "       [-0.13307079, -0.13788033,  0.27124686,  0.02224751],\n",
       "       [ 2.30486738,  1.65083742,  1.70388875,  1.35709783],\n",
       "       [-1.47393679,  0.30929911, -1.33331205, -1.31260282],\n",
       "       [ 0.47641375, -0.36147005,  0.32855254,  0.15573254],\n",
       "       [-0.13307079, -1.25582892,  0.72969227,  1.09012776],\n",
       "       [-0.37686461,  2.5451963 , -1.33331205, -1.31260282],\n",
       "       [ 0.23261993, -0.13788033,  0.61508092,  0.8231577 ],\n",
       "       [-0.01117388, -0.80864948,  0.78699794,  0.95664273],\n",
       "       [ 0.23261993, -1.92659808,  0.15663551, -0.24472256],\n",
       "       [-0.49876152, -0.13788033,  0.44316389,  0.4227026 ],\n",
       "       [ 0.47641375,  0.75647855,  0.95891497,  1.49058286],\n",
       "       [-0.37686461, -1.70300836,  0.15663551,  0.15573254],\n",
       "       [-0.49876152,  1.87442714, -1.16139502, -1.04563275],\n",
       "       [-0.98634915, -1.70300836, -0.24450422, -0.24472256],\n",
       "       [ 0.72020757, -0.80864948,  0.90160929,  0.95664273],\n",
       "       [-0.98634915,  0.53288883, -1.33331205, -1.31260282],\n",
       "       [-0.98634915,  0.30929911, -1.4479234 , -1.31260282],\n",
       "       [-0.37686461, -1.47941864,  0.04202416, -0.11123753],\n",
       "       [ 1.08589829, -0.13788033,  0.72969227,  0.68967267],\n",
       "       [-1.10824606,  0.08570939, -1.27600637, -1.31260282],\n",
       "       [-0.01117388, -0.58505976,  0.78699794,  1.62406789],\n",
       "       [-0.98634915,  0.75647855, -1.27600637, -1.31260282],\n",
       "       [-0.98634915,  0.98006827, -1.2187007 , -0.77866269],\n",
       "       [ 0.11072303,  0.30929911,  0.61508092,  0.8231577 ],\n",
       "       [-0.86445224, -1.25582892, -0.41642124, -0.11123753],\n",
       "       [ 1.32969211,  0.30929911,  1.130832  ,  1.49058286],\n",
       "       [ 0.23261993, -0.80864948,  0.78699794,  0.55618763],\n",
       "       [ 0.35451684, -1.0322392 ,  1.07352632,  0.28921757],\n",
       "       [ 2.30486738, -0.13788033,  1.3600547 ,  1.49058286],\n",
       "       [-0.37686461, -1.25582892,  0.15663551,  0.15573254],\n",
       "       [-1.7177306 , -0.36147005, -1.33331205, -1.31260282],\n",
       "       [-1.83962751, -0.13788033, -1.50522907, -1.44608785],\n",
       "       [ 0.23261993, -1.92659808,  0.72969227,  0.4227026 ],\n",
       "       [ 1.69538284,  0.30929911,  1.30274902,  0.8231577 ],\n",
       "       [-1.47393679,  0.08570939, -1.27600637, -1.31260282],\n",
       "       [-0.86445224,  0.98006827, -1.33331205, -1.17911778],\n",
       "       [-1.7177306 , -0.13788033, -1.39061772, -1.31260282],\n",
       "       [ 0.59831066, -1.25582892,  0.67238659,  0.4227026 ],\n",
       "       [ 0.59831066,  0.75647855,  1.07352632,  1.62406789],\n",
       "       [-1.47393679,  0.75647855, -1.33331205, -1.17911778],\n",
       "       [ 1.2077952 , -0.13788033,  1.01622064,  1.22361279],\n",
       "       [ 0.59831066,  0.53288883,  1.30274902,  1.75755292],\n",
       "       [-1.35203988,  0.30929911, -1.39061772, -1.31260282],\n",
       "       [ 0.35451684, -0.36147005,  0.55777524,  0.28921757],\n",
       "       [ 0.84210448, -0.58505976,  0.50046957,  0.4227026 ],\n",
       "       [ 0.47641375, -0.58505976,  0.61508092,  0.8231577 ],\n",
       "       [ 1.45158902,  0.30929911,  0.55777524,  0.28921757],\n",
       "       [ 0.72020757,  0.30929911,  0.90160929,  1.49058286],\n",
       "       [-0.86445224,  1.65083742, -1.2187007 , -1.31260282],\n",
       "       [ 1.32969211,  0.08570939,  0.95891497,  1.22361279],\n",
       "       [ 0.11072303, -0.13788033,  0.27124686,  0.4227026 ],\n",
       "       [ 0.84210448, -0.13788033,  0.84430362,  1.09012776],\n",
       "       [-0.13307079, -1.0322392 , -0.12989286, -0.24472256],\n",
       "       [-0.74255534, -0.80864948,  0.09932984,  0.28921757],\n",
       "       [ 0.35451684, -0.13788033,  0.50046957,  0.28921757],\n",
       "       [-1.5958337 , -1.70300836, -1.39061772, -1.17911778],\n",
       "       [ 0.96400139, -0.36147005,  0.50046957,  0.15573254],\n",
       "       [-0.37686461, -1.0322392 ,  0.38585821,  0.02224751],\n",
       "       [-0.62065843,  1.4272477 , -1.27600637, -1.31260282],\n",
       "       [-0.2549677 , -0.13788033,  0.21394119,  0.15573254],\n",
       "       [ 1.81727975, -0.36147005,  1.47466605,  0.8231577 ],\n",
       "       [ 1.08589829,  0.53288883,  1.130832  ,  1.22361279],\n",
       "       [-0.86445224,  1.4272477 , -1.27600637, -1.04563275],\n",
       "       [-1.10824606, -1.47941864, -0.24450422, -0.24472256],\n",
       "       [ 1.08589829,  0.53288883,  1.130832  ,  1.75755292],\n",
       "       [ 1.69538284, -0.13788033,  1.18813767,  0.55618763],\n",
       "       [-1.10824606,  1.20365799, -1.33331205, -1.44608785],\n",
       "       [ 1.08589829,  0.08570939,  1.07352632,  1.62406789],\n",
       "       [-1.10824606, -0.13788033, -1.33331205, -1.31260282],\n",
       "       [ 1.32969211,  0.08570939,  0.67238659,  0.4227026 ],\n",
       "       [ 1.93917666, -0.58505976,  1.3600547 ,  0.95664273],\n",
       "       [ 0.59831066, -0.36147005,  1.07352632,  0.8231577 ],\n",
       "       [-0.13307079, -0.58505976,  0.21394119,  0.15573254],\n",
       "       [ 0.84210448, -0.13788033,  1.01622064,  0.8231577 ],\n",
       "       [ 0.59831066, -1.70300836,  0.38585821,  0.15573254],\n",
       "       [ 0.72020757, -0.36147005,  0.32855254,  0.15573254],\n",
       "       [-0.2549677 , -0.58505976,  0.67238659,  1.09012776],\n",
       "       [ 0.11072303, -0.13788033,  0.78699794,  0.8231577 ],\n",
       "       [-0.49876152,  0.75647855, -1.16139502, -1.31260282],\n",
       "       [ 0.35451684, -0.58505976,  0.15663551,  0.15573254],\n",
       "       [-1.10824606, -1.25582892,  0.44316389,  0.68967267],\n",
       "       [-0.01117388,  2.09801686, -1.4479234 , -1.31260282],\n",
       "       [-0.01117388, -1.0322392 ,  0.15663551,  0.02224751],\n",
       "       [ 1.57348593, -0.13788033,  1.24544335,  1.22361279]])"
      ]
     },
     "execution_count": 14,
     "metadata": {},
     "output_type": "execute_result"
    }
   ],
   "source": [
    "#pour normaliser les donnnees \n",
    "scaler = StandardScaler()\n",
    "X_train_scaled = scaler.fit_transform(X_train)\n",
    "X_train_scaled"
   ]
  },
  {
   "cell_type": "code",
   "execution_count": 15,
   "metadata": {},
   "outputs": [
    {
     "data": {
      "text/plain": [
       "array([[ 0.35451684, -0.58505976,  0.55777524,  0.02224751],\n",
       "       [-0.13307079,  1.65083742, -1.16139502, -1.17911778],\n",
       "       [ 2.30486738, -1.0322392 ,  1.8185001 ,  1.49058286],\n",
       "       [ 0.23261993, -0.36147005,  0.44316389,  0.4227026 ],\n",
       "       [ 1.2077952 , -0.58505976,  0.61508092,  0.28921757],\n",
       "       [-0.49876152,  0.75647855, -1.27600637, -1.04563275],\n",
       "       [-0.2549677 , -0.36147005, -0.07258719,  0.15573254],\n",
       "       [ 1.32969211,  0.08570939,  0.78699794,  1.49058286],\n",
       "       [ 0.47641375, -1.92659808,  0.44316389,  0.4227026 ],\n",
       "       [-0.01117388, -0.80864948,  0.09932984,  0.02224751],\n",
       "       [ 0.84210448,  0.30929911,  0.78699794,  1.09012776],\n",
       "       [-1.23014297, -0.13788033, -1.33331205, -1.44608785],\n",
       "       [-0.37686461,  0.98006827, -1.39061772, -1.31260282],\n",
       "       [-1.10824606,  0.08570939, -1.27600637, -1.44608785],\n",
       "       [-0.86445224,  1.65083742, -1.27600637, -1.17911778],\n",
       "       [ 0.59831066,  0.53288883,  0.55777524,  0.55618763],\n",
       "       [ 0.84210448, -0.13788033,  1.18813767,  1.35709783],\n",
       "       [-0.2549677 , -1.25582892,  0.09932984, -0.11123753],\n",
       "       [-0.13307079, -0.58505976,  0.44316389,  0.15573254],\n",
       "       [ 0.72020757, -0.58505976,  1.07352632,  1.35709783],\n",
       "       [-1.35203988,  0.30929911, -1.2187007 , -1.31260282],\n",
       "       [ 0.35451684, -0.13788033,  0.67238659,  0.8231577 ],\n",
       "       [-0.98634915,  0.75647855, -1.2187007 , -1.04563275],\n",
       "       [ 0.72020757, -0.58505976,  1.07352632,  1.22361279],\n",
       "       [ 2.5486612 ,  1.65083742,  1.53197172,  1.09012776],\n",
       "       [ 1.08589829, -0.13788033,  0.84430362,  1.49058286],\n",
       "       [ 1.08589829, -1.25582892,  1.18813767,  0.8231577 ],\n",
       "       [ 1.2077952 ,  0.30929911,  1.24544335,  1.49058286],\n",
       "       [-1.23014297, -0.13788033, -1.33331205, -1.17911778],\n",
       "       [-1.23014297,  0.08570939, -1.2187007 , -1.31260282]])"
      ]
     },
     "execution_count": 15,
     "metadata": {},
     "output_type": "execute_result"
    }
   ],
   "source": [
    "X_test_scaled  = scaler.transform(X_test)\n",
    "X_test_scaled "
   ]
  },
  {
   "cell_type": "markdown",
   "metadata": {},
   "source": [
    "#### 8- Définition du modèle KNN"
   ]
  },
  {
   "cell_type": "code",
   "execution_count": 16,
   "metadata": {},
   "outputs": [],
   "source": [
    "from sklearn.neighbors import KNeighborsClassifier"
   ]
  },
  {
   "cell_type": "code",
   "execution_count": 17,
   "metadata": {},
   "outputs": [],
   "source": [
    "classifier = KNeighborsClassifier(n_neighbors = 5)"
   ]
  },
  {
   "cell_type": "markdown",
   "metadata": {},
   "source": [
    "#### 9- Entraînement de modèle"
   ]
  },
  {
   "cell_type": "code",
   "execution_count": 18,
   "metadata": {},
   "outputs": [
    {
     "data": {
      "text/html": [
       "<style>#sk-container-id-1 {color: black;background-color: white;}#sk-container-id-1 pre{padding: 0;}#sk-container-id-1 div.sk-toggleable {background-color: white;}#sk-container-id-1 label.sk-toggleable__label {cursor: pointer;display: block;width: 100%;margin-bottom: 0;padding: 0.3em;box-sizing: border-box;text-align: center;}#sk-container-id-1 label.sk-toggleable__label-arrow:before {content: \"▸\";float: left;margin-right: 0.25em;color: #696969;}#sk-container-id-1 label.sk-toggleable__label-arrow:hover:before {color: black;}#sk-container-id-1 div.sk-estimator:hover label.sk-toggleable__label-arrow:before {color: black;}#sk-container-id-1 div.sk-toggleable__content {max-height: 0;max-width: 0;overflow: hidden;text-align: left;background-color: #f0f8ff;}#sk-container-id-1 div.sk-toggleable__content pre {margin: 0.2em;color: black;border-radius: 0.25em;background-color: #f0f8ff;}#sk-container-id-1 input.sk-toggleable__control:checked~div.sk-toggleable__content {max-height: 200px;max-width: 100%;overflow: auto;}#sk-container-id-1 input.sk-toggleable__control:checked~label.sk-toggleable__label-arrow:before {content: \"▾\";}#sk-container-id-1 div.sk-estimator input.sk-toggleable__control:checked~label.sk-toggleable__label {background-color: #d4ebff;}#sk-container-id-1 div.sk-label input.sk-toggleable__control:checked~label.sk-toggleable__label {background-color: #d4ebff;}#sk-container-id-1 input.sk-hidden--visually {border: 0;clip: rect(1px 1px 1px 1px);clip: rect(1px, 1px, 1px, 1px);height: 1px;margin: -1px;overflow: hidden;padding: 0;position: absolute;width: 1px;}#sk-container-id-1 div.sk-estimator {font-family: monospace;background-color: #f0f8ff;border: 1px dotted black;border-radius: 0.25em;box-sizing: border-box;margin-bottom: 0.5em;}#sk-container-id-1 div.sk-estimator:hover {background-color: #d4ebff;}#sk-container-id-1 div.sk-parallel-item::after {content: \"\";width: 100%;border-bottom: 1px solid gray;flex-grow: 1;}#sk-container-id-1 div.sk-label:hover label.sk-toggleable__label {background-color: #d4ebff;}#sk-container-id-1 div.sk-serial::before {content: \"\";position: absolute;border-left: 1px solid gray;box-sizing: border-box;top: 0;bottom: 0;left: 50%;z-index: 0;}#sk-container-id-1 div.sk-serial {display: flex;flex-direction: column;align-items: center;background-color: white;padding-right: 0.2em;padding-left: 0.2em;position: relative;}#sk-container-id-1 div.sk-item {position: relative;z-index: 1;}#sk-container-id-1 div.sk-parallel {display: flex;align-items: stretch;justify-content: center;background-color: white;position: relative;}#sk-container-id-1 div.sk-item::before, #sk-container-id-1 div.sk-parallel-item::before {content: \"\";position: absolute;border-left: 1px solid gray;box-sizing: border-box;top: 0;bottom: 0;left: 50%;z-index: -1;}#sk-container-id-1 div.sk-parallel-item {display: flex;flex-direction: column;z-index: 1;position: relative;background-color: white;}#sk-container-id-1 div.sk-parallel-item:first-child::after {align-self: flex-end;width: 50%;}#sk-container-id-1 div.sk-parallel-item:last-child::after {align-self: flex-start;width: 50%;}#sk-container-id-1 div.sk-parallel-item:only-child::after {width: 0;}#sk-container-id-1 div.sk-dashed-wrapped {border: 1px dashed gray;margin: 0 0.4em 0.5em 0.4em;box-sizing: border-box;padding-bottom: 0.4em;background-color: white;}#sk-container-id-1 div.sk-label label {font-family: monospace;font-weight: bold;display: inline-block;line-height: 1.2em;}#sk-container-id-1 div.sk-label-container {text-align: center;}#sk-container-id-1 div.sk-container {/* jupyter's `normalize.less` sets `[hidden] { display: none; }` but bootstrap.min.css set `[hidden] { display: none !important; }` so we also need the `!important` here to be able to override the default hidden behavior on the sphinx rendered scikit-learn.org. See: https://github.com/scikit-learn/scikit-learn/issues/21755 */display: inline-block !important;position: relative;}#sk-container-id-1 div.sk-text-repr-fallback {display: none;}</style><div id=\"sk-container-id-1\" class=\"sk-top-container\"><div class=\"sk-text-repr-fallback\"><pre>KNeighborsClassifier()</pre><b>In a Jupyter environment, please rerun this cell to show the HTML representation or trust the notebook. <br />On GitHub, the HTML representation is unable to render, please try loading this page with nbviewer.org.</b></div><div class=\"sk-container\" hidden><div class=\"sk-item\"><div class=\"sk-estimator sk-toggleable\"><input class=\"sk-toggleable__control sk-hidden--visually\" id=\"sk-estimator-id-1\" type=\"checkbox\" checked><label for=\"sk-estimator-id-1\" class=\"sk-toggleable__label sk-toggleable__label-arrow\">KNeighborsClassifier</label><div class=\"sk-toggleable__content\"><pre>KNeighborsClassifier()</pre></div></div></div></div></div>"
      ],
      "text/plain": [
       "KNeighborsClassifier()"
      ]
     },
     "execution_count": 18,
     "metadata": {},
     "output_type": "execute_result"
    }
   ],
   "source": [
    "classifier.fit(X_train_scaled,y_train)"
   ]
  },
  {
   "cell_type": "markdown",
   "metadata": {},
   "source": [
    "#### 10- Prédiction sur l'ensemble de test\n"
   ]
  },
  {
   "cell_type": "code",
   "execution_count": 19,
   "metadata": {},
   "outputs": [
    {
     "data": {
      "text/plain": [
       "array([1, 0, 2, 1, 1, 0, 1, 2, 1, 1, 2, 0, 0, 0, 0, 1, 2, 1, 1, 2, 0, 2,\n",
       "       0, 2, 2, 2, 2, 2, 0, 0])"
      ]
     },
     "execution_count": 19,
     "metadata": {},
     "output_type": "execute_result"
    }
   ],
   "source": [
    "y_pred = classifier.predict(X_test_scaled)\n",
    "y_pred"
   ]
  },
  {
   "cell_type": "markdown",
   "metadata": {},
   "source": [
    "#### 11- Évaluation du modèle"
   ]
  },
  {
   "cell_type": "code",
   "execution_count": 20,
   "metadata": {},
   "outputs": [
    {
     "name": "stdout",
     "output_type": "stream",
     "text": [
      "Accuracy: 1.0\n",
      "Confusion Matrix:\n",
      "[[10  0  0]\n",
      " [ 0  9  0]\n",
      " [ 0  0 11]]\n",
      "Classification Report:              precision    recall  f1-score   support\n",
      "\n",
      "           0       1.00      1.00      1.00        10\n",
      "           1       1.00      1.00      1.00         9\n",
      "           2       1.00      1.00      1.00        11\n",
      "\n",
      "    accuracy                           1.00        30\n",
      "   macro avg       1.00      1.00      1.00        30\n",
      "weighted avg       1.00      1.00      1.00        30\n",
      "\n"
     ]
    }
   ],
   "source": [
    "accuracy = accuracy_score(y_test, y_pred)\n",
    "print(f\"Accuracy: {accuracy}\")\n",
    "\n",
    "# Confusion matrix\n",
    "conf_matrix = confusion_matrix(y_test, y_pred)\n",
    "print(f\"Confusion Matrix:\\n{conf_matrix}\")\n",
    "\n",
    "# Classification report\n",
    "class_report = classification_report(y_test, y_pred)\n",
    "print(f\"Classification Report:{class_report}\")"
   ]
  },
  {
   "cell_type": "markdown",
   "metadata": {},
   "source": [
    "#### 12- Changement de K = {5, 10, 20, 30, 40}?"
   ]
  },
  {
   "cell_type": "code",
   "execution_count": 21,
   "metadata": {},
   "outputs": [
    {
     "name": "stdout",
     "output_type": "stream",
     "text": [
      "k=5: Accuracy = 1.0\n",
      "Confusion Matrix pour  k=5: \n",
      "[[10  0  0]\n",
      " [ 0  9  0]\n",
      " [ 0  0 11]]\n",
      "\n",
      "k=10: Accuracy = 1.0\n",
      "Confusion Matrix pour  k=10: \n",
      "[[10  0  0]\n",
      " [ 0  9  0]\n",
      " [ 0  0 11]]\n",
      "\n",
      "k=20: Accuracy = 1.0\n",
      "Confusion Matrix pour  k=20: \n",
      "[[10  0  0]\n",
      " [ 0  9  0]\n",
      " [ 0  0 11]]\n",
      "\n",
      "k=30: Accuracy = 0.9666666666666667\n",
      "Confusion Matrix pour  k=30: \n",
      "[[10  0  0]\n",
      " [ 0  9  0]\n",
      " [ 0  1 10]]\n",
      "\n",
      "k=40: Accuracy = 0.9666666666666667\n",
      "Confusion Matrix pour  k=40: \n",
      "[[10  0  0]\n",
      " [ 0  9  0]\n",
      " [ 0  1 10]]\n",
      "\n"
     ]
    }
   ],
   "source": [
    "k_values = [5, 10, 20, 30, 40]\n",
    "\n",
    "accuracy_results = {}\n",
    "\n",
    "for k in k_values:\n",
    "    knn = KNeighborsClassifier(n_neighbors=k)\n",
    "    \n",
    "    # entraindmdnt de model\n",
    "    knn.fit(X_train_scaled, y_train)\n",
    "    \n",
    "    # predictions\n",
    "    y_pred = knn.predict(X_test_scaled)\n",
    "    \n",
    "    # calculation accuracy\n",
    "    accuracy = accuracy_score(y_test, y_pred)\n",
    "    \n",
    "    # stocke accuracy dans le dictionnaire accuracy_results\n",
    "    accuracy_results[k] = accuracy\n",
    "    \n",
    "    # affichage des resultats\n",
    "    print(f\"k={k}: Accuracy = {accuracy}\")\n",
    "    print(f\"Confusion Matrix pour  k={k}: \\n{confusion_matrix(y_test, y_pred)}\\n\")"
   ]
  },
  {
   "cell_type": "markdown",
   "metadata": {},
   "source": [
    "#### Observation"
   ]
  },
  {
   "cell_type": "code",
   "execution_count": 22,
   "metadata": {},
   "outputs": [],
   "source": [
    "## on observe que les valeurs des k faibles (k=5) peut causer l'overfitting de notre modele, ainsi que les valeurs plus grand (k=30 ou 40) peut causer l'underlearning.\n",
    "\n",
    "### mais des valeurs moyennes (k= 10 ou 20) offrent un bon apprentissage pour notre modele."
   ]
  },
  {
   "cell_type": "markdown",
   "metadata": {
    "id": "dRAn-qhBwqgp"
   },
   "source": [
    "# **Partie II : Decision Trees**"
   ]
  },
  {
   "cell_type": "markdown",
   "metadata": {
    "id": "UU1ELn91wg2R"
   },
   "source": [
    "# **Questions :**\n",
    "\n",
    "1- Importer les packages nécessaires\n",
    "\n",
    "2- Lire l'ensemble de données dans le dataframe pandas\n",
    "\n",
    "3- Afficher et explorer l'ensemble de données \"**iris.csv**\"\n",
    "\n",
    "4- Extraire les variables d'entrée X\n",
    "\n",
    "5- Extraire les variables de sortie y\n",
    "\n",
    "6- Diviser le dataset en Train / Test\n",
    "\n",
    "7- Mise à l'échelle des fonctionnalités avec Transform()\n",
    "\n",
    "8- Définir votre modèle **Decision Tree**\n",
    "\n",
    "9- Entraîner le modèle\n",
    "\n",
    "10- Prédiction sur l'ensemble de test\n",
    "\n",
    "11- Évaluation du modèle à l'aide de métriques"
   ]
  },
  {
   "cell_type": "code",
   "execution_count": 23,
   "metadata": {
    "id": "EfkJv-sMxI-c"
   },
   "outputs": [],
   "source": [
    "# IRIS Dataset : Decision Tree"
   ]
  },
  {
   "cell_type": "markdown",
   "metadata": {},
   "source": [
    "#### 1- Importation des packages nécessaires"
   ]
  },
  {
   "cell_type": "code",
   "execution_count": 24,
   "metadata": {},
   "outputs": [],
   "source": [
    "import pandas as pd\n",
    "import numpy as np\n",
    "from sklearn.tree import DecisionTreeClassifier\n",
    "from sklearn.preprocessing import LabelEncoder\n",
    "from sklearn.model_selection import train_test_split\n",
    "from sklearn.preprocessing import StandardScaler\n",
    "from sklearn.metrics import classification_report, accuracy_score, confusion_matrix"
   ]
  },
  {
   "cell_type": "markdown",
   "metadata": {},
   "source": [
    "#### 2- Lecture des données dans le dataframe pandas"
   ]
  },
  {
   "cell_type": "code",
   "execution_count": 25,
   "metadata": {},
   "outputs": [],
   "source": [
    "df = pd.read_csv('iris.csv')"
   ]
  },
  {
   "cell_type": "markdown",
   "metadata": {},
   "source": [
    "#### 3- l'affichage et l'exploration de l'ensemble de données \"Iris.csv\""
   ]
  },
  {
   "cell_type": "code",
   "execution_count": 26,
   "metadata": {},
   "outputs": [
    {
     "data": {
      "text/html": [
       "<div>\n",
       "<style scoped>\n",
       "    .dataframe tbody tr th:only-of-type {\n",
       "        vertical-align: middle;\n",
       "    }\n",
       "\n",
       "    .dataframe tbody tr th {\n",
       "        vertical-align: top;\n",
       "    }\n",
       "\n",
       "    .dataframe thead th {\n",
       "        text-align: right;\n",
       "    }\n",
       "</style>\n",
       "<table border=\"1\" class=\"dataframe\">\n",
       "  <thead>\n",
       "    <tr style=\"text-align: right;\">\n",
       "      <th></th>\n",
       "      <th>sepal.length</th>\n",
       "      <th>sepal.width</th>\n",
       "      <th>petal.length</th>\n",
       "      <th>petal.width</th>\n",
       "      <th>variety</th>\n",
       "    </tr>\n",
       "  </thead>\n",
       "  <tbody>\n",
       "    <tr>\n",
       "      <th>0</th>\n",
       "      <td>5.1</td>\n",
       "      <td>3.5</td>\n",
       "      <td>1.4</td>\n",
       "      <td>0.2</td>\n",
       "      <td>Setosa</td>\n",
       "    </tr>\n",
       "    <tr>\n",
       "      <th>1</th>\n",
       "      <td>4.9</td>\n",
       "      <td>3.0</td>\n",
       "      <td>1.4</td>\n",
       "      <td>0.2</td>\n",
       "      <td>Setosa</td>\n",
       "    </tr>\n",
       "    <tr>\n",
       "      <th>2</th>\n",
       "      <td>4.7</td>\n",
       "      <td>3.2</td>\n",
       "      <td>1.3</td>\n",
       "      <td>0.2</td>\n",
       "      <td>Setosa</td>\n",
       "    </tr>\n",
       "    <tr>\n",
       "      <th>3</th>\n",
       "      <td>4.6</td>\n",
       "      <td>3.1</td>\n",
       "      <td>1.5</td>\n",
       "      <td>0.2</td>\n",
       "      <td>Setosa</td>\n",
       "    </tr>\n",
       "    <tr>\n",
       "      <th>4</th>\n",
       "      <td>5.0</td>\n",
       "      <td>3.6</td>\n",
       "      <td>1.4</td>\n",
       "      <td>0.2</td>\n",
       "      <td>Setosa</td>\n",
       "    </tr>\n",
       "    <tr>\n",
       "      <th>...</th>\n",
       "      <td>...</td>\n",
       "      <td>...</td>\n",
       "      <td>...</td>\n",
       "      <td>...</td>\n",
       "      <td>...</td>\n",
       "    </tr>\n",
       "    <tr>\n",
       "      <th>145</th>\n",
       "      <td>6.7</td>\n",
       "      <td>3.0</td>\n",
       "      <td>5.2</td>\n",
       "      <td>2.3</td>\n",
       "      <td>Virginica</td>\n",
       "    </tr>\n",
       "    <tr>\n",
       "      <th>146</th>\n",
       "      <td>6.3</td>\n",
       "      <td>2.5</td>\n",
       "      <td>5.0</td>\n",
       "      <td>1.9</td>\n",
       "      <td>Virginica</td>\n",
       "    </tr>\n",
       "    <tr>\n",
       "      <th>147</th>\n",
       "      <td>6.5</td>\n",
       "      <td>3.0</td>\n",
       "      <td>5.2</td>\n",
       "      <td>2.0</td>\n",
       "      <td>Virginica</td>\n",
       "    </tr>\n",
       "    <tr>\n",
       "      <th>148</th>\n",
       "      <td>6.2</td>\n",
       "      <td>3.4</td>\n",
       "      <td>5.4</td>\n",
       "      <td>2.3</td>\n",
       "      <td>Virginica</td>\n",
       "    </tr>\n",
       "    <tr>\n",
       "      <th>149</th>\n",
       "      <td>5.9</td>\n",
       "      <td>3.0</td>\n",
       "      <td>5.1</td>\n",
       "      <td>1.8</td>\n",
       "      <td>Virginica</td>\n",
       "    </tr>\n",
       "  </tbody>\n",
       "</table>\n",
       "<p>150 rows × 5 columns</p>\n",
       "</div>"
      ],
      "text/plain": [
       "     sepal.length  sepal.width  petal.length  petal.width    variety\n",
       "0             5.1          3.5           1.4          0.2     Setosa\n",
       "1             4.9          3.0           1.4          0.2     Setosa\n",
       "2             4.7          3.2           1.3          0.2     Setosa\n",
       "3             4.6          3.1           1.5          0.2     Setosa\n",
       "4             5.0          3.6           1.4          0.2     Setosa\n",
       "..            ...          ...           ...          ...        ...\n",
       "145           6.7          3.0           5.2          2.3  Virginica\n",
       "146           6.3          2.5           5.0          1.9  Virginica\n",
       "147           6.5          3.0           5.2          2.0  Virginica\n",
       "148           6.2          3.4           5.4          2.3  Virginica\n",
       "149           5.9          3.0           5.1          1.8  Virginica\n",
       "\n",
       "[150 rows x 5 columns]"
      ]
     },
     "execution_count": 26,
     "metadata": {},
     "output_type": "execute_result"
    }
   ],
   "source": [
    "df"
   ]
  },
  {
   "cell_type": "code",
   "execution_count": 27,
   "metadata": {},
   "outputs": [
    {
     "data": {
      "text/plain": [
       "(150, 5)"
      ]
     },
     "execution_count": 27,
     "metadata": {},
     "output_type": "execute_result"
    }
   ],
   "source": [
    "df.shape"
   ]
  },
  {
   "cell_type": "code",
   "execution_count": 28,
   "metadata": {},
   "outputs": [
    {
     "name": "stdout",
     "output_type": "stream",
     "text": [
      "<class 'pandas.core.frame.DataFrame'>\n",
      "RangeIndex: 150 entries, 0 to 149\n",
      "Data columns (total 5 columns):\n",
      " #   Column        Non-Null Count  Dtype  \n",
      "---  ------        --------------  -----  \n",
      " 0   sepal.length  150 non-null    float64\n",
      " 1   sepal.width   150 non-null    float64\n",
      " 2   petal.length  150 non-null    float64\n",
      " 3   petal.width   150 non-null    float64\n",
      " 4   variety       150 non-null    object \n",
      "dtypes: float64(4), object(1)\n",
      "memory usage: 6.0+ KB\n"
     ]
    }
   ],
   "source": [
    "df.info()"
   ]
  },
  {
   "cell_type": "markdown",
   "metadata": {},
   "source": [
    "#### 4- Extraction des variables d'entrée X"
   ]
  },
  {
   "cell_type": "code",
   "execution_count": 29,
   "metadata": {},
   "outputs": [
    {
     "data": {
      "text/html": [
       "<div>\n",
       "<style scoped>\n",
       "    .dataframe tbody tr th:only-of-type {\n",
       "        vertical-align: middle;\n",
       "    }\n",
       "\n",
       "    .dataframe tbody tr th {\n",
       "        vertical-align: top;\n",
       "    }\n",
       "\n",
       "    .dataframe thead th {\n",
       "        text-align: right;\n",
       "    }\n",
       "</style>\n",
       "<table border=\"1\" class=\"dataframe\">\n",
       "  <thead>\n",
       "    <tr style=\"text-align: right;\">\n",
       "      <th></th>\n",
       "      <th>sepal.length</th>\n",
       "      <th>sepal.width</th>\n",
       "      <th>petal.length</th>\n",
       "      <th>petal.width</th>\n",
       "    </tr>\n",
       "  </thead>\n",
       "  <tbody>\n",
       "    <tr>\n",
       "      <th>0</th>\n",
       "      <td>5.1</td>\n",
       "      <td>3.5</td>\n",
       "      <td>1.4</td>\n",
       "      <td>0.2</td>\n",
       "    </tr>\n",
       "    <tr>\n",
       "      <th>1</th>\n",
       "      <td>4.9</td>\n",
       "      <td>3.0</td>\n",
       "      <td>1.4</td>\n",
       "      <td>0.2</td>\n",
       "    </tr>\n",
       "    <tr>\n",
       "      <th>2</th>\n",
       "      <td>4.7</td>\n",
       "      <td>3.2</td>\n",
       "      <td>1.3</td>\n",
       "      <td>0.2</td>\n",
       "    </tr>\n",
       "    <tr>\n",
       "      <th>3</th>\n",
       "      <td>4.6</td>\n",
       "      <td>3.1</td>\n",
       "      <td>1.5</td>\n",
       "      <td>0.2</td>\n",
       "    </tr>\n",
       "    <tr>\n",
       "      <th>4</th>\n",
       "      <td>5.0</td>\n",
       "      <td>3.6</td>\n",
       "      <td>1.4</td>\n",
       "      <td>0.2</td>\n",
       "    </tr>\n",
       "    <tr>\n",
       "      <th>...</th>\n",
       "      <td>...</td>\n",
       "      <td>...</td>\n",
       "      <td>...</td>\n",
       "      <td>...</td>\n",
       "    </tr>\n",
       "    <tr>\n",
       "      <th>145</th>\n",
       "      <td>6.7</td>\n",
       "      <td>3.0</td>\n",
       "      <td>5.2</td>\n",
       "      <td>2.3</td>\n",
       "    </tr>\n",
       "    <tr>\n",
       "      <th>146</th>\n",
       "      <td>6.3</td>\n",
       "      <td>2.5</td>\n",
       "      <td>5.0</td>\n",
       "      <td>1.9</td>\n",
       "    </tr>\n",
       "    <tr>\n",
       "      <th>147</th>\n",
       "      <td>6.5</td>\n",
       "      <td>3.0</td>\n",
       "      <td>5.2</td>\n",
       "      <td>2.0</td>\n",
       "    </tr>\n",
       "    <tr>\n",
       "      <th>148</th>\n",
       "      <td>6.2</td>\n",
       "      <td>3.4</td>\n",
       "      <td>5.4</td>\n",
       "      <td>2.3</td>\n",
       "    </tr>\n",
       "    <tr>\n",
       "      <th>149</th>\n",
       "      <td>5.9</td>\n",
       "      <td>3.0</td>\n",
       "      <td>5.1</td>\n",
       "      <td>1.8</td>\n",
       "    </tr>\n",
       "  </tbody>\n",
       "</table>\n",
       "<p>150 rows × 4 columns</p>\n",
       "</div>"
      ],
      "text/plain": [
       "     sepal.length  sepal.width  petal.length  petal.width\n",
       "0             5.1          3.5           1.4          0.2\n",
       "1             4.9          3.0           1.4          0.2\n",
       "2             4.7          3.2           1.3          0.2\n",
       "3             4.6          3.1           1.5          0.2\n",
       "4             5.0          3.6           1.4          0.2\n",
       "..            ...          ...           ...          ...\n",
       "145           6.7          3.0           5.2          2.3\n",
       "146           6.3          2.5           5.0          1.9\n",
       "147           6.5          3.0           5.2          2.0\n",
       "148           6.2          3.4           5.4          2.3\n",
       "149           5.9          3.0           5.1          1.8\n",
       "\n",
       "[150 rows x 4 columns]"
      ]
     },
     "execution_count": 29,
     "metadata": {},
     "output_type": "execute_result"
    }
   ],
   "source": [
    "X = df.drop(columns ='variety',axis='1')\n",
    "X"
   ]
  },
  {
   "cell_type": "markdown",
   "metadata": {},
   "source": [
    "#### 5- Extraction des variables de sortie Y"
   ]
  },
  {
   "cell_type": "code",
   "execution_count": 30,
   "metadata": {},
   "outputs": [
    {
     "data": {
      "text/plain": [
       "0         Setosa\n",
       "1         Setosa\n",
       "2         Setosa\n",
       "3         Setosa\n",
       "4         Setosa\n",
       "         ...    \n",
       "145    Virginica\n",
       "146    Virginica\n",
       "147    Virginica\n",
       "148    Virginica\n",
       "149    Virginica\n",
       "Name: variety, Length: 150, dtype: object"
      ]
     },
     "execution_count": 30,
     "metadata": {},
     "output_type": "execute_result"
    }
   ],
   "source": [
    "Y = df['variety']\n",
    "Y"
   ]
  },
  {
   "cell_type": "code",
   "execution_count": 31,
   "metadata": {},
   "outputs": [
    {
     "data": {
      "text/plain": [
       "array([0, 0, 0, 0, 0, 0, 0, 0, 0, 0, 0, 0, 0, 0, 0, 0, 0, 0, 0, 0, 0, 0,\n",
       "       0, 0, 0, 0, 0, 0, 0, 0, 0, 0, 0, 0, 0, 0, 0, 0, 0, 0, 0, 0, 0, 0,\n",
       "       0, 0, 0, 0, 0, 0, 1, 1, 1, 1, 1, 1, 1, 1, 1, 1, 1, 1, 1, 1, 1, 1,\n",
       "       1, 1, 1, 1, 1, 1, 1, 1, 1, 1, 1, 1, 1, 1, 1, 1, 1, 1, 1, 1, 1, 1,\n",
       "       1, 1, 1, 1, 1, 1, 1, 1, 1, 1, 1, 1, 2, 2, 2, 2, 2, 2, 2, 2, 2, 2,\n",
       "       2, 2, 2, 2, 2, 2, 2, 2, 2, 2, 2, 2, 2, 2, 2, 2, 2, 2, 2, 2, 2, 2,\n",
       "       2, 2, 2, 2, 2, 2, 2, 2, 2, 2, 2, 2, 2, 2, 2, 2, 2, 2])"
      ]
     },
     "execution_count": 31,
     "metadata": {},
     "output_type": "execute_result"
    }
   ],
   "source": [
    "LE = LabelEncoder()\n",
    "\n",
    "Y = LE.fit_transform(Y)\n",
    "Y"
   ]
  },
  {
   "cell_type": "markdown",
   "metadata": {},
   "source": [
    "#### 6- Division de dataset en Train / Test"
   ]
  },
  {
   "cell_type": "code",
   "execution_count": 32,
   "metadata": {},
   "outputs": [],
   "source": [
    "X_train_DT, X_test_DT, y_train_DT, y_test_DT = train_test_split(X,Y,test_size = 0.2, random_state = 42)"
   ]
  },
  {
   "cell_type": "markdown",
   "metadata": {},
   "source": [
    "#### 7- Mise à l'échelle des fonctionnalités avec Transform()"
   ]
  },
  {
   "cell_type": "code",
   "execution_count": 33,
   "metadata": {},
   "outputs": [
    {
     "data": {
      "text/plain": [
       "array([[-1.47393679,  1.20365799, -1.56253475, -1.31260282],\n",
       "       [-0.13307079,  2.99237573, -1.27600637, -1.04563275],\n",
       "       [ 1.08589829,  0.08570939,  0.38585821,  0.28921757],\n",
       "       [-1.23014297,  0.75647855, -1.2187007 , -1.31260282],\n",
       "       [-1.7177306 ,  0.30929911, -1.39061772, -1.31260282],\n",
       "       [ 0.59831066, -1.25582892,  0.72969227,  0.95664273],\n",
       "       [ 0.72020757,  0.30929911,  0.44316389,  0.4227026 ],\n",
       "       [-0.74255534,  0.98006827, -1.27600637, -1.31260282],\n",
       "       [-0.98634915,  1.20365799, -1.33331205, -1.31260282],\n",
       "       [-0.74255534,  2.32160658, -1.27600637, -1.44608785],\n",
       "       [-0.01117388, -0.80864948,  0.78699794,  0.95664273],\n",
       "       [ 0.23261993,  0.75647855,  0.44316389,  0.55618763],\n",
       "       [ 1.08589829,  0.08570939,  0.55777524,  0.4227026 ],\n",
       "       [-0.49876152,  1.87442714, -1.39061772, -1.04563275],\n",
       "       [-0.49876152,  1.4272477 , -1.27600637, -1.31260282],\n",
       "       [-0.37686461, -1.47941864, -0.01528151, -0.24472256],\n",
       "       [ 0.59831066, -0.58505976,  0.78699794,  0.4227026 ],\n",
       "       [ 0.72020757,  0.08570939,  1.01622064,  0.8231577 ],\n",
       "       [ 0.96400139, -0.13788033,  0.38585821,  0.28921757],\n",
       "       [ 1.69538284,  1.20365799,  1.3600547 ,  1.75755292],\n",
       "       [-0.13307079, -0.36147005,  0.27124686,  0.15573254],\n",
       "       [ 2.18297047, -0.13788033,  1.64658307,  1.22361279],\n",
       "       [-0.2549677 , -0.13788033,  0.44316389,  0.4227026 ],\n",
       "       [-0.86445224,  0.98006827, -1.33331205, -1.31260282],\n",
       "       [ 2.30486738, -0.58505976,  1.70388875,  1.09012776],\n",
       "       [-0.01117388, -0.80864948,  0.21394119, -0.24472256],\n",
       "       [-0.74255534,  0.75647855, -1.33331205, -1.31260282],\n",
       "       [-0.98634915,  0.98006827, -1.39061772, -1.17911778],\n",
       "       [-0.86445224,  1.65083742, -1.04678367, -1.04563275],\n",
       "       [-0.98634915, -2.37377751, -0.12989286, -0.24472256],\n",
       "       [ 0.59831066, -0.80864948,  0.67238659,  0.8231577 ],\n",
       "       [-1.23014297,  0.75647855, -1.04678367, -1.31260282],\n",
       "       [-0.98634915, -0.13788033, -1.2187007 , -1.31260282],\n",
       "       [-0.86445224,  0.53288883, -1.16139502, -0.91214772],\n",
       "       [-0.2549677 , -0.80864948,  0.27124686,  0.15573254],\n",
       "       [-0.86445224,  0.75647855, -1.27600637, -1.31260282],\n",
       "       [-0.13307079, -0.13788033,  0.27124686,  0.02224751],\n",
       "       [ 2.30486738,  1.65083742,  1.70388875,  1.35709783],\n",
       "       [-1.47393679,  0.30929911, -1.33331205, -1.31260282],\n",
       "       [ 0.47641375, -0.36147005,  0.32855254,  0.15573254],\n",
       "       [-0.13307079, -1.25582892,  0.72969227,  1.09012776],\n",
       "       [-0.37686461,  2.5451963 , -1.33331205, -1.31260282],\n",
       "       [ 0.23261993, -0.13788033,  0.61508092,  0.8231577 ],\n",
       "       [-0.01117388, -0.80864948,  0.78699794,  0.95664273],\n",
       "       [ 0.23261993, -1.92659808,  0.15663551, -0.24472256],\n",
       "       [-0.49876152, -0.13788033,  0.44316389,  0.4227026 ],\n",
       "       [ 0.47641375,  0.75647855,  0.95891497,  1.49058286],\n",
       "       [-0.37686461, -1.70300836,  0.15663551,  0.15573254],\n",
       "       [-0.49876152,  1.87442714, -1.16139502, -1.04563275],\n",
       "       [-0.98634915, -1.70300836, -0.24450422, -0.24472256],\n",
       "       [ 0.72020757, -0.80864948,  0.90160929,  0.95664273],\n",
       "       [-0.98634915,  0.53288883, -1.33331205, -1.31260282],\n",
       "       [-0.98634915,  0.30929911, -1.4479234 , -1.31260282],\n",
       "       [-0.37686461, -1.47941864,  0.04202416, -0.11123753],\n",
       "       [ 1.08589829, -0.13788033,  0.72969227,  0.68967267],\n",
       "       [-1.10824606,  0.08570939, -1.27600637, -1.31260282],\n",
       "       [-0.01117388, -0.58505976,  0.78699794,  1.62406789],\n",
       "       [-0.98634915,  0.75647855, -1.27600637, -1.31260282],\n",
       "       [-0.98634915,  0.98006827, -1.2187007 , -0.77866269],\n",
       "       [ 0.11072303,  0.30929911,  0.61508092,  0.8231577 ],\n",
       "       [-0.86445224, -1.25582892, -0.41642124, -0.11123753],\n",
       "       [ 1.32969211,  0.30929911,  1.130832  ,  1.49058286],\n",
       "       [ 0.23261993, -0.80864948,  0.78699794,  0.55618763],\n",
       "       [ 0.35451684, -1.0322392 ,  1.07352632,  0.28921757],\n",
       "       [ 2.30486738, -0.13788033,  1.3600547 ,  1.49058286],\n",
       "       [-0.37686461, -1.25582892,  0.15663551,  0.15573254],\n",
       "       [-1.7177306 , -0.36147005, -1.33331205, -1.31260282],\n",
       "       [-1.83962751, -0.13788033, -1.50522907, -1.44608785],\n",
       "       [ 0.23261993, -1.92659808,  0.72969227,  0.4227026 ],\n",
       "       [ 1.69538284,  0.30929911,  1.30274902,  0.8231577 ],\n",
       "       [-1.47393679,  0.08570939, -1.27600637, -1.31260282],\n",
       "       [-0.86445224,  0.98006827, -1.33331205, -1.17911778],\n",
       "       [-1.7177306 , -0.13788033, -1.39061772, -1.31260282],\n",
       "       [ 0.59831066, -1.25582892,  0.67238659,  0.4227026 ],\n",
       "       [ 0.59831066,  0.75647855,  1.07352632,  1.62406789],\n",
       "       [-1.47393679,  0.75647855, -1.33331205, -1.17911778],\n",
       "       [ 1.2077952 , -0.13788033,  1.01622064,  1.22361279],\n",
       "       [ 0.59831066,  0.53288883,  1.30274902,  1.75755292],\n",
       "       [-1.35203988,  0.30929911, -1.39061772, -1.31260282],\n",
       "       [ 0.35451684, -0.36147005,  0.55777524,  0.28921757],\n",
       "       [ 0.84210448, -0.58505976,  0.50046957,  0.4227026 ],\n",
       "       [ 0.47641375, -0.58505976,  0.61508092,  0.8231577 ],\n",
       "       [ 1.45158902,  0.30929911,  0.55777524,  0.28921757],\n",
       "       [ 0.72020757,  0.30929911,  0.90160929,  1.49058286],\n",
       "       [-0.86445224,  1.65083742, -1.2187007 , -1.31260282],\n",
       "       [ 1.32969211,  0.08570939,  0.95891497,  1.22361279],\n",
       "       [ 0.11072303, -0.13788033,  0.27124686,  0.4227026 ],\n",
       "       [ 0.84210448, -0.13788033,  0.84430362,  1.09012776],\n",
       "       [-0.13307079, -1.0322392 , -0.12989286, -0.24472256],\n",
       "       [-0.74255534, -0.80864948,  0.09932984,  0.28921757],\n",
       "       [ 0.35451684, -0.13788033,  0.50046957,  0.28921757],\n",
       "       [-1.5958337 , -1.70300836, -1.39061772, -1.17911778],\n",
       "       [ 0.96400139, -0.36147005,  0.50046957,  0.15573254],\n",
       "       [-0.37686461, -1.0322392 ,  0.38585821,  0.02224751],\n",
       "       [-0.62065843,  1.4272477 , -1.27600637, -1.31260282],\n",
       "       [-0.2549677 , -0.13788033,  0.21394119,  0.15573254],\n",
       "       [ 1.81727975, -0.36147005,  1.47466605,  0.8231577 ],\n",
       "       [ 1.08589829,  0.53288883,  1.130832  ,  1.22361279],\n",
       "       [-0.86445224,  1.4272477 , -1.27600637, -1.04563275],\n",
       "       [-1.10824606, -1.47941864, -0.24450422, -0.24472256],\n",
       "       [ 1.08589829,  0.53288883,  1.130832  ,  1.75755292],\n",
       "       [ 1.69538284, -0.13788033,  1.18813767,  0.55618763],\n",
       "       [-1.10824606,  1.20365799, -1.33331205, -1.44608785],\n",
       "       [ 1.08589829,  0.08570939,  1.07352632,  1.62406789],\n",
       "       [-1.10824606, -0.13788033, -1.33331205, -1.31260282],\n",
       "       [ 1.32969211,  0.08570939,  0.67238659,  0.4227026 ],\n",
       "       [ 1.93917666, -0.58505976,  1.3600547 ,  0.95664273],\n",
       "       [ 0.59831066, -0.36147005,  1.07352632,  0.8231577 ],\n",
       "       [-0.13307079, -0.58505976,  0.21394119,  0.15573254],\n",
       "       [ 0.84210448, -0.13788033,  1.01622064,  0.8231577 ],\n",
       "       [ 0.59831066, -1.70300836,  0.38585821,  0.15573254],\n",
       "       [ 0.72020757, -0.36147005,  0.32855254,  0.15573254],\n",
       "       [-0.2549677 , -0.58505976,  0.67238659,  1.09012776],\n",
       "       [ 0.11072303, -0.13788033,  0.78699794,  0.8231577 ],\n",
       "       [-0.49876152,  0.75647855, -1.16139502, -1.31260282],\n",
       "       [ 0.35451684, -0.58505976,  0.15663551,  0.15573254],\n",
       "       [-1.10824606, -1.25582892,  0.44316389,  0.68967267],\n",
       "       [-0.01117388,  2.09801686, -1.4479234 , -1.31260282],\n",
       "       [-0.01117388, -1.0322392 ,  0.15663551,  0.02224751],\n",
       "       [ 1.57348593, -0.13788033,  1.24544335,  1.22361279]])"
      ]
     },
     "execution_count": 33,
     "metadata": {},
     "output_type": "execute_result"
    }
   ],
   "source": [
    "#pour normaliser les donnnees \n",
    "scaler = StandardScaler()\n",
    "X_train_scaled_DT = scaler.fit_transform(X_train_DT)\n",
    "X_train_scaled_DT"
   ]
  },
  {
   "cell_type": "code",
   "execution_count": 34,
   "metadata": {},
   "outputs": [
    {
     "data": {
      "text/plain": [
       "array([[ 0.35451684, -0.58505976,  0.55777524,  0.02224751],\n",
       "       [-0.13307079,  1.65083742, -1.16139502, -1.17911778],\n",
       "       [ 2.30486738, -1.0322392 ,  1.8185001 ,  1.49058286],\n",
       "       [ 0.23261993, -0.36147005,  0.44316389,  0.4227026 ],\n",
       "       [ 1.2077952 , -0.58505976,  0.61508092,  0.28921757],\n",
       "       [-0.49876152,  0.75647855, -1.27600637, -1.04563275],\n",
       "       [-0.2549677 , -0.36147005, -0.07258719,  0.15573254],\n",
       "       [ 1.32969211,  0.08570939,  0.78699794,  1.49058286],\n",
       "       [ 0.47641375, -1.92659808,  0.44316389,  0.4227026 ],\n",
       "       [-0.01117388, -0.80864948,  0.09932984,  0.02224751],\n",
       "       [ 0.84210448,  0.30929911,  0.78699794,  1.09012776],\n",
       "       [-1.23014297, -0.13788033, -1.33331205, -1.44608785],\n",
       "       [-0.37686461,  0.98006827, -1.39061772, -1.31260282],\n",
       "       [-1.10824606,  0.08570939, -1.27600637, -1.44608785],\n",
       "       [-0.86445224,  1.65083742, -1.27600637, -1.17911778],\n",
       "       [ 0.59831066,  0.53288883,  0.55777524,  0.55618763],\n",
       "       [ 0.84210448, -0.13788033,  1.18813767,  1.35709783],\n",
       "       [-0.2549677 , -1.25582892,  0.09932984, -0.11123753],\n",
       "       [-0.13307079, -0.58505976,  0.44316389,  0.15573254],\n",
       "       [ 0.72020757, -0.58505976,  1.07352632,  1.35709783],\n",
       "       [-1.35203988,  0.30929911, -1.2187007 , -1.31260282],\n",
       "       [ 0.35451684, -0.13788033,  0.67238659,  0.8231577 ],\n",
       "       [-0.98634915,  0.75647855, -1.2187007 , -1.04563275],\n",
       "       [ 0.72020757, -0.58505976,  1.07352632,  1.22361279],\n",
       "       [ 2.5486612 ,  1.65083742,  1.53197172,  1.09012776],\n",
       "       [ 1.08589829, -0.13788033,  0.84430362,  1.49058286],\n",
       "       [ 1.08589829, -1.25582892,  1.18813767,  0.8231577 ],\n",
       "       [ 1.2077952 ,  0.30929911,  1.24544335,  1.49058286],\n",
       "       [-1.23014297, -0.13788033, -1.33331205, -1.17911778],\n",
       "       [-1.23014297,  0.08570939, -1.2187007 , -1.31260282]])"
      ]
     },
     "execution_count": 34,
     "metadata": {},
     "output_type": "execute_result"
    }
   ],
   "source": [
    "X_test_scaled_DT  = scaler.transform(X_test_DT)\n",
    "X_test_scaled_DT "
   ]
  },
  {
   "cell_type": "markdown",
   "metadata": {},
   "source": [
    "#### 8- Définition du modèle Decision Tree"
   ]
  },
  {
   "cell_type": "code",
   "execution_count": 35,
   "metadata": {},
   "outputs": [],
   "source": [
    "DT_model = DecisionTreeClassifier()"
   ]
  },
  {
   "cell_type": "markdown",
   "metadata": {},
   "source": [
    "#### 9- Entraînement de modèle"
   ]
  },
  {
   "cell_type": "code",
   "execution_count": 36,
   "metadata": {},
   "outputs": [
    {
     "data": {
      "text/html": [
       "<style>#sk-container-id-2 {color: black;background-color: white;}#sk-container-id-2 pre{padding: 0;}#sk-container-id-2 div.sk-toggleable {background-color: white;}#sk-container-id-2 label.sk-toggleable__label {cursor: pointer;display: block;width: 100%;margin-bottom: 0;padding: 0.3em;box-sizing: border-box;text-align: center;}#sk-container-id-2 label.sk-toggleable__label-arrow:before {content: \"▸\";float: left;margin-right: 0.25em;color: #696969;}#sk-container-id-2 label.sk-toggleable__label-arrow:hover:before {color: black;}#sk-container-id-2 div.sk-estimator:hover label.sk-toggleable__label-arrow:before {color: black;}#sk-container-id-2 div.sk-toggleable__content {max-height: 0;max-width: 0;overflow: hidden;text-align: left;background-color: #f0f8ff;}#sk-container-id-2 div.sk-toggleable__content pre {margin: 0.2em;color: black;border-radius: 0.25em;background-color: #f0f8ff;}#sk-container-id-2 input.sk-toggleable__control:checked~div.sk-toggleable__content {max-height: 200px;max-width: 100%;overflow: auto;}#sk-container-id-2 input.sk-toggleable__control:checked~label.sk-toggleable__label-arrow:before {content: \"▾\";}#sk-container-id-2 div.sk-estimator input.sk-toggleable__control:checked~label.sk-toggleable__label {background-color: #d4ebff;}#sk-container-id-2 div.sk-label input.sk-toggleable__control:checked~label.sk-toggleable__label {background-color: #d4ebff;}#sk-container-id-2 input.sk-hidden--visually {border: 0;clip: rect(1px 1px 1px 1px);clip: rect(1px, 1px, 1px, 1px);height: 1px;margin: -1px;overflow: hidden;padding: 0;position: absolute;width: 1px;}#sk-container-id-2 div.sk-estimator {font-family: monospace;background-color: #f0f8ff;border: 1px dotted black;border-radius: 0.25em;box-sizing: border-box;margin-bottom: 0.5em;}#sk-container-id-2 div.sk-estimator:hover {background-color: #d4ebff;}#sk-container-id-2 div.sk-parallel-item::after {content: \"\";width: 100%;border-bottom: 1px solid gray;flex-grow: 1;}#sk-container-id-2 div.sk-label:hover label.sk-toggleable__label {background-color: #d4ebff;}#sk-container-id-2 div.sk-serial::before {content: \"\";position: absolute;border-left: 1px solid gray;box-sizing: border-box;top: 0;bottom: 0;left: 50%;z-index: 0;}#sk-container-id-2 div.sk-serial {display: flex;flex-direction: column;align-items: center;background-color: white;padding-right: 0.2em;padding-left: 0.2em;position: relative;}#sk-container-id-2 div.sk-item {position: relative;z-index: 1;}#sk-container-id-2 div.sk-parallel {display: flex;align-items: stretch;justify-content: center;background-color: white;position: relative;}#sk-container-id-2 div.sk-item::before, #sk-container-id-2 div.sk-parallel-item::before {content: \"\";position: absolute;border-left: 1px solid gray;box-sizing: border-box;top: 0;bottom: 0;left: 50%;z-index: -1;}#sk-container-id-2 div.sk-parallel-item {display: flex;flex-direction: column;z-index: 1;position: relative;background-color: white;}#sk-container-id-2 div.sk-parallel-item:first-child::after {align-self: flex-end;width: 50%;}#sk-container-id-2 div.sk-parallel-item:last-child::after {align-self: flex-start;width: 50%;}#sk-container-id-2 div.sk-parallel-item:only-child::after {width: 0;}#sk-container-id-2 div.sk-dashed-wrapped {border: 1px dashed gray;margin: 0 0.4em 0.5em 0.4em;box-sizing: border-box;padding-bottom: 0.4em;background-color: white;}#sk-container-id-2 div.sk-label label {font-family: monospace;font-weight: bold;display: inline-block;line-height: 1.2em;}#sk-container-id-2 div.sk-label-container {text-align: center;}#sk-container-id-2 div.sk-container {/* jupyter's `normalize.less` sets `[hidden] { display: none; }` but bootstrap.min.css set `[hidden] { display: none !important; }` so we also need the `!important` here to be able to override the default hidden behavior on the sphinx rendered scikit-learn.org. See: https://github.com/scikit-learn/scikit-learn/issues/21755 */display: inline-block !important;position: relative;}#sk-container-id-2 div.sk-text-repr-fallback {display: none;}</style><div id=\"sk-container-id-2\" class=\"sk-top-container\"><div class=\"sk-text-repr-fallback\"><pre>DecisionTreeClassifier()</pre><b>In a Jupyter environment, please rerun this cell to show the HTML representation or trust the notebook. <br />On GitHub, the HTML representation is unable to render, please try loading this page with nbviewer.org.</b></div><div class=\"sk-container\" hidden><div class=\"sk-item\"><div class=\"sk-estimator sk-toggleable\"><input class=\"sk-toggleable__control sk-hidden--visually\" id=\"sk-estimator-id-2\" type=\"checkbox\" checked><label for=\"sk-estimator-id-2\" class=\"sk-toggleable__label sk-toggleable__label-arrow\">DecisionTreeClassifier</label><div class=\"sk-toggleable__content\"><pre>DecisionTreeClassifier()</pre></div></div></div></div></div>"
      ],
      "text/plain": [
       "DecisionTreeClassifier()"
      ]
     },
     "execution_count": 36,
     "metadata": {},
     "output_type": "execute_result"
    }
   ],
   "source": [
    "DT_model.fit(X_train_scaled_DT, y_train_DT)\n"
   ]
  },
  {
   "cell_type": "markdown",
   "metadata": {},
   "source": [
    "#### 10- Prédiction sur l'ensemble de test\n"
   ]
  },
  {
   "cell_type": "code",
   "execution_count": 37,
   "metadata": {},
   "outputs": [
    {
     "data": {
      "text/plain": [
       "array([1, 0, 2, 1, 1, 0, 1, 2, 1, 1, 2, 0, 0, 0, 0, 1, 2, 1, 1, 2, 0, 2,\n",
       "       0, 2, 2, 2, 2, 2, 0, 0])"
      ]
     },
     "execution_count": 37,
     "metadata": {},
     "output_type": "execute_result"
    }
   ],
   "source": [
    "y_pred_dt = DT_model.predict(X_test_scaled_DT)\n",
    "y_pred_dt"
   ]
  },
  {
   "cell_type": "markdown",
   "metadata": {},
   "source": [
    "#### 11- Évaluation du modèle"
   ]
  },
  {
   "cell_type": "code",
   "execution_count": 38,
   "metadata": {},
   "outputs": [
    {
     "name": "stdout",
     "output_type": "stream",
     "text": [
      "Accuracy: 1.0\n",
      "Confusion Matrix:\n",
      "[[10  0  0]\n",
      " [ 0  9  0]\n",
      " [ 0  0 11]]\n",
      "Classification Report:              precision    recall  f1-score   support\n",
      "\n",
      "           0       1.00      1.00      1.00        10\n",
      "           1       1.00      1.00      1.00         9\n",
      "           2       1.00      1.00      1.00        11\n",
      "\n",
      "    accuracy                           1.00        30\n",
      "   macro avg       1.00      1.00      1.00        30\n",
      "weighted avg       1.00      1.00      1.00        30\n",
      "\n"
     ]
    }
   ],
   "source": [
    "accuracy_DT = accuracy_score(y_test_DT, y_pred_dt)\n",
    "print(f\"Accuracy: {accuracy_DT}\")\n",
    "\n",
    "# Confusion matrix\n",
    "conf_matrix_DT = confusion_matrix(y_test_DT, y_pred_dt)\n",
    "print(f\"Confusion Matrix:\\n{conf_matrix_DT}\")\n",
    "\n",
    "# Classification report\n",
    "class_report_DT = classification_report(y_test_DT, y_pred_dt)\n",
    "print(f\"Classification Report:{class_report_DT}\")"
   ]
  }
 ],
 "metadata": {
  "colab": {
   "provenance": []
  },
  "kernelspec": {
   "display_name": "Python 3 (ipykernel)",
   "language": "python",
   "name": "python3"
  },
  "language_info": {
   "codemirror_mode": {
    "name": "ipython",
    "version": 3
   },
   "file_extension": ".py",
   "mimetype": "text/x-python",
   "name": "python",
   "nbconvert_exporter": "python",
   "pygments_lexer": "ipython3",
   "version": "3.11.7"
  }
 },
 "nbformat": 4,
 "nbformat_minor": 4
}
